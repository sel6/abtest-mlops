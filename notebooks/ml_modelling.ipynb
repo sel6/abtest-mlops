{
 "cells": [
  {
   "cell_type": "code",
   "execution_count": 22,
   "id": "0196fc17",
   "metadata": {},
   "outputs": [],
   "source": [
    "import pandas as pd\n",
    "import numpy as np\n",
    "import matplotlib.pyplot as plt\n",
    "import seaborn as sns\n",
    "from sklearn.model_selection import train_test_split\n",
    "from sklearn.preprocessing import StandardScaler, LabelEncoder\n",
    "from sklearn.pipeline import Pipeline\n",
    "from sklearn.linear_model import LogisticRegression\n",
    "from sklearn.preprocessing import MinMaxScaler\n",
    "from sklearn.preprocessing import FunctionTransformer\n",
    "from sklearn.metrics import accuracy_score, confusion_matrix\n",
    "import sys\n",
    "sys.path.insert(0, \"../scripts_\")\n",
    "import warnings\n",
    "from ml_flow import MlFlow\n",
    "from data_cleaning import DataCleaning\n",
    "from models import MlModels"
   ]
  },
  {
   "cell_type": "code",
   "execution_count": 2,
   "id": "0272703b",
   "metadata": {},
   "outputs": [],
   "source": [
    "#ignore warnings and assign object to class\n",
    "warnings.filterwarnings('ignore')"
   ]
  },
  {
   "cell_type": "code",
   "execution_count": 3,
   "id": "04eca6de",
   "metadata": {},
   "outputs": [
    {
     "data": {
      "text/html": [
       "<div>\n",
       "<style scoped>\n",
       "    .dataframe tbody tr th:only-of-type {\n",
       "        vertical-align: middle;\n",
       "    }\n",
       "\n",
       "    .dataframe tbody tr th {\n",
       "        vertical-align: top;\n",
       "    }\n",
       "\n",
       "    .dataframe thead th {\n",
       "        text-align: right;\n",
       "    }\n",
       "</style>\n",
       "<table border=\"1\" class=\"dataframe\">\n",
       "  <thead>\n",
       "    <tr style=\"text-align: right;\">\n",
       "      <th></th>\n",
       "      <th>auction_id</th>\n",
       "      <th>experiment</th>\n",
       "      <th>date</th>\n",
       "      <th>hour</th>\n",
       "      <th>device_make</th>\n",
       "      <th>platform_os</th>\n",
       "      <th>browser</th>\n",
       "      <th>yes</th>\n",
       "      <th>no</th>\n",
       "    </tr>\n",
       "  </thead>\n",
       "  <tbody>\n",
       "    <tr>\n",
       "      <th>0</th>\n",
       "      <td>0008ef63-77a7-448b-bd1e-075f42c55e39</td>\n",
       "      <td>exposed</td>\n",
       "      <td>2020-07-10</td>\n",
       "      <td>8</td>\n",
       "      <td>Generic Smartphone</td>\n",
       "      <td>6</td>\n",
       "      <td>Chrome Mobile</td>\n",
       "      <td>0</td>\n",
       "      <td>0</td>\n",
       "    </tr>\n",
       "    <tr>\n",
       "      <th>1</th>\n",
       "      <td>000eabc5-17ce-4137-8efe-44734d914446</td>\n",
       "      <td>exposed</td>\n",
       "      <td>2020-07-07</td>\n",
       "      <td>10</td>\n",
       "      <td>Generic Smartphone</td>\n",
       "      <td>6</td>\n",
       "      <td>Chrome Mobile</td>\n",
       "      <td>0</td>\n",
       "      <td>0</td>\n",
       "    </tr>\n",
       "    <tr>\n",
       "      <th>2</th>\n",
       "      <td>0016d14a-ae18-4a02-a204-6ba53b52f2ed</td>\n",
       "      <td>exposed</td>\n",
       "      <td>2020-07-05</td>\n",
       "      <td>2</td>\n",
       "      <td>E5823</td>\n",
       "      <td>6</td>\n",
       "      <td>Chrome Mobile WebView</td>\n",
       "      <td>0</td>\n",
       "      <td>1</td>\n",
       "    </tr>\n",
       "    <tr>\n",
       "      <th>3</th>\n",
       "      <td>00187412-2932-4542-a8ef-3633901c98d9</td>\n",
       "      <td>control</td>\n",
       "      <td>2020-07-03</td>\n",
       "      <td>15</td>\n",
       "      <td>Samsung SM-A705FN</td>\n",
       "      <td>6</td>\n",
       "      <td>Facebook</td>\n",
       "      <td>0</td>\n",
       "      <td>0</td>\n",
       "    </tr>\n",
       "    <tr>\n",
       "      <th>4</th>\n",
       "      <td>001a7785-d3fe-4e11-a344-c8735acacc2c</td>\n",
       "      <td>control</td>\n",
       "      <td>2020-07-03</td>\n",
       "      <td>15</td>\n",
       "      <td>Generic Smartphone</td>\n",
       "      <td>6</td>\n",
       "      <td>Chrome Mobile</td>\n",
       "      <td>0</td>\n",
       "      <td>0</td>\n",
       "    </tr>\n",
       "    <tr>\n",
       "      <th>...</th>\n",
       "      <td>...</td>\n",
       "      <td>...</td>\n",
       "      <td>...</td>\n",
       "      <td>...</td>\n",
       "      <td>...</td>\n",
       "      <td>...</td>\n",
       "      <td>...</td>\n",
       "      <td>...</td>\n",
       "      <td>...</td>\n",
       "    </tr>\n",
       "    <tr>\n",
       "      <th>8072</th>\n",
       "      <td>ffea24ec-cec1-43fb-b1d1-8f93828c2be2</td>\n",
       "      <td>exposed</td>\n",
       "      <td>2020-07-05</td>\n",
       "      <td>7</td>\n",
       "      <td>Generic Smartphone</td>\n",
       "      <td>6</td>\n",
       "      <td>Chrome Mobile</td>\n",
       "      <td>0</td>\n",
       "      <td>0</td>\n",
       "    </tr>\n",
       "    <tr>\n",
       "      <th>8073</th>\n",
       "      <td>ffea3210-2c3e-426f-a77d-0aa72e73b20f</td>\n",
       "      <td>control</td>\n",
       "      <td>2020-07-03</td>\n",
       "      <td>15</td>\n",
       "      <td>Generic Smartphone</td>\n",
       "      <td>6</td>\n",
       "      <td>Chrome Mobile</td>\n",
       "      <td>0</td>\n",
       "      <td>0</td>\n",
       "    </tr>\n",
       "    <tr>\n",
       "      <th>8074</th>\n",
       "      <td>ffeaa0f1-1d72-4ba9-afb4-314b3b00a7c7</td>\n",
       "      <td>control</td>\n",
       "      <td>2020-07-04</td>\n",
       "      <td>9</td>\n",
       "      <td>Generic Smartphone</td>\n",
       "      <td>6</td>\n",
       "      <td>Chrome Mobile</td>\n",
       "      <td>0</td>\n",
       "      <td>0</td>\n",
       "    </tr>\n",
       "    <tr>\n",
       "      <th>8075</th>\n",
       "      <td>ffeeed62-3f7c-4a6e-8ba7-95d303d40969</td>\n",
       "      <td>exposed</td>\n",
       "      <td>2020-07-05</td>\n",
       "      <td>15</td>\n",
       "      <td>Samsung SM-A515F</td>\n",
       "      <td>6</td>\n",
       "      <td>Samsung Internet</td>\n",
       "      <td>0</td>\n",
       "      <td>0</td>\n",
       "    </tr>\n",
       "    <tr>\n",
       "      <th>8076</th>\n",
       "      <td>fffbb9ff-568a-41a5-a0c3-6866592f80d8</td>\n",
       "      <td>control</td>\n",
       "      <td>2020-07-10</td>\n",
       "      <td>14</td>\n",
       "      <td>Samsung SM-G960F</td>\n",
       "      <td>6</td>\n",
       "      <td>Facebook</td>\n",
       "      <td>0</td>\n",
       "      <td>0</td>\n",
       "    </tr>\n",
       "  </tbody>\n",
       "</table>\n",
       "<p>8077 rows × 9 columns</p>\n",
       "</div>"
      ],
      "text/plain": [
       "                                auction_id experiment        date  hour  \\\n",
       "0     0008ef63-77a7-448b-bd1e-075f42c55e39    exposed  2020-07-10     8   \n",
       "1     000eabc5-17ce-4137-8efe-44734d914446    exposed  2020-07-07    10   \n",
       "2     0016d14a-ae18-4a02-a204-6ba53b52f2ed    exposed  2020-07-05     2   \n",
       "3     00187412-2932-4542-a8ef-3633901c98d9    control  2020-07-03    15   \n",
       "4     001a7785-d3fe-4e11-a344-c8735acacc2c    control  2020-07-03    15   \n",
       "...                                    ...        ...         ...   ...   \n",
       "8072  ffea24ec-cec1-43fb-b1d1-8f93828c2be2    exposed  2020-07-05     7   \n",
       "8073  ffea3210-2c3e-426f-a77d-0aa72e73b20f    control  2020-07-03    15   \n",
       "8074  ffeaa0f1-1d72-4ba9-afb4-314b3b00a7c7    control  2020-07-04     9   \n",
       "8075  ffeeed62-3f7c-4a6e-8ba7-95d303d40969    exposed  2020-07-05    15   \n",
       "8076  fffbb9ff-568a-41a5-a0c3-6866592f80d8    control  2020-07-10    14   \n",
       "\n",
       "             device_make  platform_os                browser  yes  no  \n",
       "0     Generic Smartphone            6          Chrome Mobile    0   0  \n",
       "1     Generic Smartphone            6          Chrome Mobile    0   0  \n",
       "2                  E5823            6  Chrome Mobile WebView    0   1  \n",
       "3      Samsung SM-A705FN            6               Facebook    0   0  \n",
       "4     Generic Smartphone            6          Chrome Mobile    0   0  \n",
       "...                  ...          ...                    ...  ...  ..  \n",
       "8072  Generic Smartphone            6          Chrome Mobile    0   0  \n",
       "8073  Generic Smartphone            6          Chrome Mobile    0   0  \n",
       "8074  Generic Smartphone            6          Chrome Mobile    0   0  \n",
       "8075    Samsung SM-A515F            6       Samsung Internet    0   0  \n",
       "8076    Samsung SM-G960F            6               Facebook    0   0  \n",
       "\n",
       "[8077 rows x 9 columns]"
      ]
     },
     "execution_count": 3,
     "metadata": {},
     "output_type": "execute_result"
    }
   ],
   "source": [
    "#load data and import classes\n",
    "df = pd.read_csv(\"../data/AdSmartABdata.csv\")\n",
    "DP = DataCleaning(df)\n",
    "MP = MlFlow()\n",
    "df"
   ]
  },
  {
   "cell_type": "code",
   "execution_count": 4,
   "id": "c5120408",
   "metadata": {},
   "outputs": [
    {
     "data": {
      "text/plain": [
       "(1243, 9)"
      ]
     },
     "execution_count": 4,
     "metadata": {},
     "output_type": "execute_result"
    }
   ],
   "source": [
    "#drop users with no response\n",
    "respond = DP.response(df)\n",
    "#no. of rows and columns after dropping\n",
    "respond.shape"
   ]
  },
  {
   "cell_type": "markdown",
   "id": "1d2cd72f",
   "metadata": {},
   "source": [
    "* SPLIT DATA PER TWO PLATFORMS AND TOP THREE BROWSERS"
   ]
  },
  {
   "cell_type": "code",
   "execution_count": 5,
   "id": "d4938e63",
   "metadata": {},
   "outputs": [],
   "source": [
    "platform1 = respond[respond['platform_os'] == 5]\n",
    "clean_pl1 = platform1.drop('browser',axis=1)\n",
    "platform2 = respond[respond['platform_os']==6]\n",
    "clean_pl2 = platform2.drop('browser',axis=1)\n",
    "#clean_pl1.to_csv(\"cleanpl1.csv\")\n",
    "#clean_pl2.to_csv(\"cleanpl2.csv\")"
   ]
  },
  {
   "cell_type": "code",
   "execution_count": 6,
   "id": "90f8bdec",
   "metadata": {},
   "outputs": [
    {
     "name": "stdout",
     "output_type": "stream",
     "text": [
      "\n",
      "TOP THREE BROWSERS USED BY CUSTOMERS\n",
      "\n"
     ]
    },
    {
     "data": {
      "text/html": [
       "<div>\n",
       "<style scoped>\n",
       "    .dataframe tbody tr th:only-of-type {\n",
       "        vertical-align: middle;\n",
       "    }\n",
       "\n",
       "    .dataframe tbody tr th {\n",
       "        vertical-align: top;\n",
       "    }\n",
       "\n",
       "    .dataframe thead th {\n",
       "        text-align: right;\n",
       "    }\n",
       "</style>\n",
       "<table border=\"1\" class=\"dataframe\">\n",
       "  <thead>\n",
       "    <tr style=\"text-align: right;\">\n",
       "      <th></th>\n",
       "      <th>browser</th>\n",
       "      <th>number of users</th>\n",
       "    </tr>\n",
       "  </thead>\n",
       "  <tbody>\n",
       "    <tr>\n",
       "      <th>1</th>\n",
       "      <td>Chrome Mobile</td>\n",
       "      <td>695</td>\n",
       "    </tr>\n",
       "    <tr>\n",
       "      <th>2</th>\n",
       "      <td>Chrome Mobile WebView</td>\n",
       "      <td>227</td>\n",
       "    </tr>\n",
       "    <tr>\n",
       "      <th>4</th>\n",
       "      <td>Facebook</td>\n",
       "      <td>156</td>\n",
       "    </tr>\n",
       "  </tbody>\n",
       "</table>\n",
       "</div>"
      ],
      "text/plain": [
       "                 browser  number of users\n",
       "1          Chrome Mobile              695\n",
       "2  Chrome Mobile WebView              227\n",
       "4               Facebook              156"
      ]
     },
     "execution_count": 6,
     "metadata": {},
     "output_type": "execute_result"
    }
   ],
   "source": [
    "brow = pd.DataFrame({'number of users':respond.groupby(['browser'])['auction_id'].count()}).reset_index()\n",
    "brow = brow.sort_values(['number of users'],ascending=False)\n",
    "print(\"\\nTOP THREE BROWSERS USED BY CUSTOMERS\\n\")\n",
    "brow.head(3)"
   ]
  },
  {
   "cell_type": "code",
   "execution_count": 7,
   "id": "4a69ef61",
   "metadata": {},
   "outputs": [],
   "source": [
    "browser1 = respond[respond['browser']==\"Chrome Mobile\"]\n",
    "browser2 = respond[respond['browser']==\"Chrome Mobile WebView\"]\n",
    "browser3 = respond[respond['browser']==\"Facebook\"]"
   ]
  },
  {
   "cell_type": "code",
   "execution_count": 8,
   "id": "82e46aa2",
   "metadata": {},
   "outputs": [
    {
     "data": {
      "text/plain": [
       "(695, 9)"
      ]
     },
     "execution_count": 8,
     "metadata": {},
     "output_type": "execute_result"
    }
   ],
   "source": [
    "browser1.shape"
   ]
  },
  {
   "cell_type": "code",
   "execution_count": 9,
   "id": "4a9f4312",
   "metadata": {},
   "outputs": [
    {
     "data": {
      "text/plain": [
       "(227, 9)"
      ]
     },
     "execution_count": 9,
     "metadata": {},
     "output_type": "execute_result"
    }
   ],
   "source": [
    "browser2.shape"
   ]
  },
  {
   "cell_type": "code",
   "execution_count": 10,
   "id": "10cee0de",
   "metadata": {},
   "outputs": [
    {
     "data": {
      "text/plain": [
       "(156, 9)"
      ]
     },
     "execution_count": 10,
     "metadata": {},
     "output_type": "execute_result"
    }
   ],
   "source": [
    "browser3.shape"
   ]
  },
  {
   "cell_type": "code",
   "execution_count": 11,
   "id": "341c9e8a",
   "metadata": {},
   "outputs": [],
   "source": [
    "browser1.to_csv(\"browser1.csv\")\n",
    "browser2.to_csv(\"browser2.csv\")\n",
    "browser3.to_csv(\"browser3.csv\")"
   ]
  },
  {
   "cell_type": "markdown",
   "id": "2aa7d9a4",
   "metadata": {},
   "source": [
    "* CLEAN DATA"
   ]
  },
  {
   "cell_type": "code",
   "execution_count": 12,
   "id": "bdf1b45d",
   "metadata": {},
   "outputs": [],
   "source": [
    "file_path = ['../data/browser1.csv','../data/browser2.csv', '../data/browser3.csv', 'cleanpl1.csv', 'cleanpl2.csv']\n",
    "def load_data(csv):\n",
    "   data = pd.read_csv(csv)\n",
    "   return data\n",
    "\n",
    "#drop unnecessary columns for browser\n",
    "def clean_browse(data):\n",
    "    columns_to_be_dropped = ['no', 'Unnamed: 0', 'platform_os']\n",
    "    br = data.drop(columns_to_be_dropped,axis=1)\n",
    "    return br\n",
    "\n",
    "\n",
    "\n",
    "#for browsers\n",
    "chr = load_data(file_path[0])\n",
    "chrome_mob = clean_browse(chr)\n",
    "chr2 = load_data(file_path[1])\n",
    "chrome_mob_wv = clean_browse(chr2)\n",
    "fb = load_data(file_path[2])\n",
    "fB = clean_browse(fb)"
   ]
  },
  {
   "cell_type": "code",
   "execution_count": 13,
   "id": "3bd4d142",
   "metadata": {},
   "outputs": [
    {
     "name": "stdout",
     "output_type": "stream",
     "text": [
      "Numerical Columns: ['auction_id', 'experiment', 'date', 'device_make', 'browser']\n",
      "****************\n",
      "Categorical Columns: ['hour', 'platform_os', 'yes', 'no']\n"
     ]
    }
   ],
   "source": [
    "catagorical_columns, numerical_columns = MP.sep_cat_num(respond)\n",
    "print(\"Numerical Columns:\", catagorical_columns)\n",
    "print(\"****************\")\n",
    "print(\"Categorical Columns:\", numerical_columns)"
   ]
  },
  {
   "cell_type": "markdown",
   "id": "31cc5f88",
   "metadata": {},
   "source": [
    "* ML PROCESS FOR CHROME MOBILE"
   ]
  },
  {
   "cell_type": "code",
   "execution_count": 14,
   "id": "a0c329ec",
   "metadata": {},
   "outputs": [
    {
     "name": "stdout",
     "output_type": "stream",
     "text": [
      "   auction_id  experiment  date  hour  device_make  browser  yes\n",
      "0          41           0     6    12            1        0    1\n",
      "1          23           1     5    20            1        0    1\n",
      "2          22           1     5    20            1        0    1\n",
      "3          21           1     7    15            1        0    1\n",
      "4          19           0     0    15            1        0    1\n",
      "\n",
      "\n",
      "scaled\n",
      "   auction_id  experiment      date      hour  device_make  browser  yes\n",
      "0    0.059078         0.0  0.857143  0.521739     0.076923      0.0  1.0\n",
      "1    0.033141         1.0  0.714286  0.869565     0.076923      0.0  1.0\n",
      "2    0.031700         1.0  0.714286  0.869565     0.076923      0.0  1.0\n",
      "3    0.030259         1.0  1.000000  0.652174     0.076923      0.0  1.0\n",
      "4    0.027378         0.0  0.000000  0.652174     0.076923      0.0  1.0\n",
      "\n",
      "\n",
      "target_features output\n",
      "features size: (695, 6)\n",
      "\n",
      "\n",
      "splitted outputt\n",
      "X_train shape: (512, 6)\n",
      "y_train shape: (512,)\n",
      "x_test shape: (70, 6)\n",
      "y_test shape: (70,)\n",
      "X_val shape: (113, 6)\n",
      "y_val shape: (113,)\n"
     ]
    }
   ],
   "source": [
    "pipe_1 = Pipeline(\n",
    "    steps=[\n",
    "        (\"label encoding\", FunctionTransformer(MP.cat_labeler, kw_args={\"cat_cols\": catagorical_columns})),\n",
    "        (\"scaling\", FunctionTransformer(MP.scaler)),\n",
    "        (\"separate target and features\", FunctionTransformer(MP.target_feature, kw_args={\"f_r\": [0, 6], \"t\":-1})),\n",
    "        (\"divide dataset\", FunctionTransformer(MP.set_splitter, kw_args={\"test\": 0.1, \"val\":0.2, \"rand_state\":8})),      \n",
    "        ])\n",
    "sets = pipe_1.fit_transform(chrome_mob)"
   ]
  },
  {
   "cell_type": "code",
   "execution_count": 34,
   "id": "0b580d14",
   "metadata": {},
   "outputs": [
    {
     "name": "stdout",
     "output_type": "stream",
     "text": [
      "accuracy:  0.4714285714285714\n",
      "loss function:  binary:logistic\n"
     ]
    },
    {
     "data": {
      "text/plain": [
       "Text(0.5, 0, 'Xgboost Feature Importance')"
      ]
     },
     "execution_count": 34,
     "metadata": {},
     "output_type": "execute_result"
    },
    {
     "data": {
      "image/png": "[encoded data removed]",
      "text/plain": [
       "<Figure size 432x288 with 1 Axes>"
      ]
     },
     "metadata": {
      "needs_background": "light"
     },
     "output_type": "display_data"
    }
   ],
   "source": [
    "# generate model\n",
    "\n",
    "MO = MlModels()\n",
    "model = MO.xgb(sets[0], sets[1], sets[2], sets[3])\n",
    "\n",
    "\n",
    "# Then predict results from X_test data\n",
    "pred_xgb = model.predict(sets[2])\n",
    "\n",
    "\n",
    "accuracy = accuracy_score(pred_xgb, sets[3])\n",
    "print(\"accuracy: \", accuracy)\n",
    "\n",
    "print(\"loss function: \", model.objective)\n",
    "\n",
    "#feat_imp = pd.Series(model.feature_importances_).sort_values(ascending=False)\n",
    "sorted_idx = model.feature_importances_.argsort()\n",
    "columns = np.array(chrome_mob.columns.to_list()[:6])\n",
    "plt.barh(columns[sorted_idx], model.feature_importances_[sorted_idx])\n",
    "plt.xlabel(\"Xgboost Feature Importance\")"
   ]
  },
  {
   "cell_type": "markdown",
   "id": "66891cb3",
   "metadata": {},
   "source": [
    "* ML PROCESS FOR CHROME MOBILE VIEWER"
   ]
  },
  {
   "cell_type": "code",
   "execution_count": 35,
   "id": "cd943faa",
   "metadata": {},
   "outputs": [
    {
     "name": "stdout",
     "output_type": "stream",
     "text": [
      "   auction_id  experiment  date  hour  device_make  browser  yes\n",
      "0           4           1     1    11           57        0    1\n",
      "1           5           1     2     2           10        0    1\n",
      "2          10           1     5    21           32        0    1\n",
      "3          12           1     1     0           31        0    1\n",
      "4           9           0     0    15           29        0    1\n",
      "\n",
      "\n",
      "scaled\n",
      "   auction_id  experiment      date      hour  device_make  browser  yes\n",
      "0    0.017699         1.0  0.142857  0.500000     0.730769      0.0  1.0\n",
      "1    0.022124         1.0  0.285714  0.090909     0.128205      0.0  1.0\n",
      "2    0.044248         1.0  0.714286  0.954545     0.410256      0.0  1.0\n",
      "3    0.053097         1.0  0.142857  0.000000     0.397436      0.0  1.0\n",
      "4    0.039823         0.0  0.000000  0.681818     0.371795      0.0  1.0\n",
      "\n",
      "\n",
      "target_features output\n",
      "features size: (227, 6)\n",
      "\n",
      "\n",
      "splitted outputt\n",
      "X_train shape: (167, 6)\n",
      "y_train shape: (167,)\n",
      "x_test shape: (23, 6)\n",
      "y_test shape: (23,)\n",
      "X_val shape: (37, 6)\n",
      "y_val shape: (37,)\n"
     ]
    }
   ],
   "source": [
    "sets = pipe_1.fit_transform(chrome_mob_wv)"
   ]
  },
  {
   "cell_type": "code",
   "execution_count": 36,
   "id": "3114d613",
   "metadata": {},
   "outputs": [
    {
     "name": "stdout",
     "output_type": "stream",
     "text": [
      "accuracy:  0.6086956521739131\n",
      "loss function:  binary:logistic\n"
     ]
    },
    {
     "data": {
      "text/plain": [
       "Text(0.5, 0, 'Xgboost Feature Importance')"
      ]
     },
     "execution_count": 36,
     "metadata": {},
     "output_type": "execute_result"
    },
    {
     "data": {
      "image/png": "[encoded data removed]",
      "text/plain": [
       "<Figure size 432x288 with 1 Axes>"
      ]
     },
     "metadata": {
      "needs_background": "light"
     },
     "output_type": "display_data"
    }
   ],
   "source": [
    "#generate model\n",
    "model = MO.xgb(sets[0], sets[1], sets[2], sets[3])\n",
    "\n",
    "\n",
    "# Then predict results from X_test data\n",
    "pred_xgb = model.predict(sets[2])\n",
    "\n",
    "\n",
    "accuracy = accuracy_score(pred_xgb, sets[3])\n",
    "print(\"accuracy: \", accuracy)\n",
    "\n",
    "print(\"loss function: \", model.objective)\n",
    "\n",
    "#feat_imp = pd.Series(model.feature_importances_).sort_values(ascending=False)\n",
    "sorted_idx = model.feature_importances_.argsort()\n",
    "columns = np.array(chrome_mob_wv.columns.to_list()[:6])\n",
    "plt.barh(columns[sorted_idx], model.feature_importances_[sorted_idx])\n",
    "plt.xlabel(\"Xgboost Feature Importance\")\n"
   ]
  },
  {
   "cell_type": "markdown",
   "id": "8aa1179c",
   "metadata": {},
   "source": [
    "* ML PROCESS FOR FACEBOOK"
   ]
  },
  {
   "cell_type": "code",
   "execution_count": 37,
   "id": "cbd4bed9",
   "metadata": {},
   "outputs": [
    {
     "name": "stdout",
     "output_type": "stream",
     "text": [
      "   auction_id  experiment  date  hour  device_make  browser  yes\n",
      "0           0           0     5     4           23        0    1\n",
      "1           3           0     6    20           32        0    1\n",
      "2           5           0     0    15            3        0    1\n",
      "3           2           1     6    13           33        0    1\n",
      "4          25           0     7    15            7        0    1\n",
      "\n",
      "\n",
      "scaled\n",
      "   auction_id  experiment      date      hour  device_make  browser  yes\n",
      "0    0.000000         0.0  0.714286  0.173913     0.370968      0.0  1.0\n",
      "1    0.019355         0.0  0.857143  0.869565     0.516129      0.0  1.0\n",
      "2    0.032258         0.0  0.000000  0.652174     0.048387      0.0  1.0\n",
      "3    0.012903         1.0  0.857143  0.565217     0.532258      0.0  1.0\n",
      "4    0.161290         0.0  1.000000  0.652174     0.112903      0.0  1.0\n",
      "\n",
      "\n",
      "target_features output\n",
      "features size: (156, 6)\n",
      "\n",
      "\n",
      "splitted outputt\n",
      "X_train shape: (114, 6)\n",
      "y_train shape: (114,)\n",
      "x_test shape: (16, 6)\n",
      "y_test shape: (16,)\n",
      "X_val shape: (26, 6)\n",
      "y_val shape: (26,)\n"
     ]
    }
   ],
   "source": [
    "sets = pipe_1.fit_transform(fB)"
   ]
  },
  {
   "cell_type": "code",
   "execution_count": 38,
   "id": "cde90f9c",
   "metadata": {},
   "outputs": [
    {
     "name": "stdout",
     "output_type": "stream",
     "text": [
      "accuracy:  0.4375\n",
      "loss function:  binary:logistic\n"
     ]
    },
    {
     "data": {
      "text/plain": [
       "Text(0.5, 0, 'Xgboost Feature Importance')"
      ]
     },
     "execution_count": 38,
     "metadata": {},
     "output_type": "execute_result"
    },
    {
     "data": {
      "image/png": "[encoded data removed]",
      "text/plain": [
       "<Figure size 432x288 with 1 Axes>"
      ]
     },
     "metadata": {
      "needs_background": "light"
     },
     "output_type": "display_data"
    }
   ],
   "source": [
    "model = MO.xgb(sets[0], sets[1], sets[2], sets[3])\n",
    "\n",
    "\n",
    "# Then predict results from X_test data\n",
    "pred_xgb = model.predict(sets[2])\n",
    "\n",
    "\n",
    "accuracy = accuracy_score(pred_xgb, sets[3])\n",
    "print(\"accuracy: \", accuracy)\n",
    "\n",
    "print(\"loss function: \", model.objective)\n",
    "\n",
    "#feat_imp = pd.Series(model.feature_importances_).sort_values(ascending=False)\n",
    "sorted_idx = model.feature_importances_.argsort()\n",
    "columns = np.array(fB.columns.to_list()[:6])\n",
    "plt.barh(columns[sorted_idx], model.feature_importances_[sorted_idx])\n",
    "plt.xlabel(\"Xgboost Feature Importance\")"
   ]
  },
  {
   "cell_type": "markdown",
   "id": "ed0ac778",
   "metadata": {},
   "source": [
    "* LOGISTIC REGRESSION"
   ]
  },
  {
   "cell_type": "code",
   "execution_count": 39,
   "id": "dc32022c",
   "metadata": {},
   "outputs": [],
   "source": [
    "pipe_2 =Pipeline([('scalar1',StandardScaler()),('lr_classifier',LogisticRegression(random_state=2))])"
   ]
  },
  {
   "cell_type": "code",
   "execution_count": 40,
   "id": "0715826f",
   "metadata": {},
   "outputs": [
    {
     "data": {
      "text/plain": [
       "0.4230769230769231"
      ]
     },
     "execution_count": 40,
     "metadata": {},
     "output_type": "execute_result"
    }
   ],
   "source": [
    "pipe_2.fit(sets[0], sets[1])\n",
    "pipe_2.score(sets[4],sets[5])"
   ]
  },
  {
   "cell_type": "code",
   "execution_count": null,
   "id": "c7db766f",
   "metadata": {},
   "outputs": [],
   "source": []
  }
 ],
 "metadata": {
  "kernelspec": {
   "display_name": "Python 3 (ipykernel)",
   "language": "python",
   "name": "python3"
  },
  "language_info": {
   "codemirror_mode": {
    "name": "ipython",
    "version": 3
   },
   "file_extension": ".py",
   "mimetype": "text/x-python",
   "name": "python",
   "nbconvert_exporter": "python",
   "pygments_lexer": "ipython3",
   "version": "3.10.3"
  }
 },
 "nbformat": 4,
 "nbformat_minor": 5
}
