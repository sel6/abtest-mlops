{
 "cells": [
  {
   "cell_type": "code",
   "execution_count": 69,
   "id": "9855f4fa",
   "metadata": {},
   "outputs": [],
   "source": [
    "#importing packages for data manuplation\n",
    "import sys\n",
    "import os\n",
    "import scipy\n",
    "import warnings\n",
    "import numpy as np\n",
    "import pandas as pd\n",
    "import seaborn as sns\n",
    "import scipy.stats as scs\n",
    "import matplotlib.pyplot as plt\n",
    "sys.path.insert(0,'../scripts_/')\n",
    "from HypothesisPlot import HypothesisPlot\n",
    "from DistributionPlots import DistributionPlots\n",
    "#for pipeline\n",
    "from sklearn.base import BaseEstimator, TransformerMixin\n",
    "from sklearn.pipeline import Pipeline\n",
    "from sklearn.preprocessing import FunctionTransformer"
   ]
  },
  {
   "cell_type": "code",
   "execution_count": 70,
   "id": "0c0ce20b",
   "metadata": {},
   "outputs": [],
   "source": [
    "#load data\n",
    "sys.path.append(os.path.abspath(os.path.join('data')))"
   ]
  },
  {
   "cell_type": "markdown",
   "id": "a42efb44",
   "metadata": {},
   "source": [
    "### Data Preparation"
   ]
  },
  {
   "cell_type": "code",
   "execution_count": 71,
   "id": "2037120e",
   "metadata": {},
   "outputs": [
    {
     "data": {
      "text/html": [
       "<div>\n",
       "<style scoped>\n",
       "    .dataframe tbody tr th:only-of-type {\n",
       "        vertical-align: middle;\n",
       "    }\n",
       "\n",
       "    .dataframe tbody tr th {\n",
       "        vertical-align: top;\n",
       "    }\n",
       "\n",
       "    .dataframe thead th {\n",
       "        text-align: right;\n",
       "    }\n",
       "</style>\n",
       "<table border=\"1\" class=\"dataframe\">\n",
       "  <thead>\n",
       "    <tr style=\"text-align: right;\">\n",
       "      <th></th>\n",
       "      <th>auction_id</th>\n",
       "      <th>experiment</th>\n",
       "      <th>date</th>\n",
       "      <th>hour</th>\n",
       "      <th>device_make</th>\n",
       "      <th>platform_os</th>\n",
       "      <th>browser</th>\n",
       "      <th>yes</th>\n",
       "      <th>no</th>\n",
       "    </tr>\n",
       "  </thead>\n",
       "  <tbody>\n",
       "    <tr>\n",
       "      <th>0</th>\n",
       "      <td>0008ef63-77a7-448b-bd1e-075f42c55e39</td>\n",
       "      <td>exposed</td>\n",
       "      <td>2020-07-10</td>\n",
       "      <td>8</td>\n",
       "      <td>Generic Smartphone</td>\n",
       "      <td>6</td>\n",
       "      <td>Chrome Mobile</td>\n",
       "      <td>0</td>\n",
       "      <td>0</td>\n",
       "    </tr>\n",
       "    <tr>\n",
       "      <th>1</th>\n",
       "      <td>000eabc5-17ce-4137-8efe-44734d914446</td>\n",
       "      <td>exposed</td>\n",
       "      <td>2020-07-07</td>\n",
       "      <td>10</td>\n",
       "      <td>Generic Smartphone</td>\n",
       "      <td>6</td>\n",
       "      <td>Chrome Mobile</td>\n",
       "      <td>0</td>\n",
       "      <td>0</td>\n",
       "    </tr>\n",
       "    <tr>\n",
       "      <th>2</th>\n",
       "      <td>0016d14a-ae18-4a02-a204-6ba53b52f2ed</td>\n",
       "      <td>exposed</td>\n",
       "      <td>2020-07-05</td>\n",
       "      <td>2</td>\n",
       "      <td>E5823</td>\n",
       "      <td>6</td>\n",
       "      <td>Chrome Mobile WebView</td>\n",
       "      <td>0</td>\n",
       "      <td>1</td>\n",
       "    </tr>\n",
       "    <tr>\n",
       "      <th>3</th>\n",
       "      <td>00187412-2932-4542-a8ef-3633901c98d9</td>\n",
       "      <td>control</td>\n",
       "      <td>2020-07-03</td>\n",
       "      <td>15</td>\n",
       "      <td>Samsung SM-A705FN</td>\n",
       "      <td>6</td>\n",
       "      <td>Facebook</td>\n",
       "      <td>0</td>\n",
       "      <td>0</td>\n",
       "    </tr>\n",
       "    <tr>\n",
       "      <th>4</th>\n",
       "      <td>001a7785-d3fe-4e11-a344-c8735acacc2c</td>\n",
       "      <td>control</td>\n",
       "      <td>2020-07-03</td>\n",
       "      <td>15</td>\n",
       "      <td>Generic Smartphone</td>\n",
       "      <td>6</td>\n",
       "      <td>Chrome Mobile</td>\n",
       "      <td>0</td>\n",
       "      <td>0</td>\n",
       "    </tr>\n",
       "  </tbody>\n",
       "</table>\n",
       "</div>"
      ],
      "text/plain": [
       "                             auction_id experiment        date  hour  \\\n",
       "0  0008ef63-77a7-448b-bd1e-075f42c55e39    exposed  2020-07-10     8   \n",
       "1  000eabc5-17ce-4137-8efe-44734d914446    exposed  2020-07-07    10   \n",
       "2  0016d14a-ae18-4a02-a204-6ba53b52f2ed    exposed  2020-07-05     2   \n",
       "3  00187412-2932-4542-a8ef-3633901c98d9    control  2020-07-03    15   \n",
       "4  001a7785-d3fe-4e11-a344-c8735acacc2c    control  2020-07-03    15   \n",
       "\n",
       "          device_make  platform_os                browser  yes  no  \n",
       "0  Generic Smartphone            6          Chrome Mobile    0   0  \n",
       "1  Generic Smartphone            6          Chrome Mobile    0   0  \n",
       "2               E5823            6  Chrome Mobile WebView    0   1  \n",
       "3   Samsung SM-A705FN            6               Facebook    0   0  \n",
       "4  Generic Smartphone            6          Chrome Mobile    0   0  "
      ]
     },
     "execution_count": 71,
     "metadata": {},
     "output_type": "execute_result"
    }
   ],
   "source": [
    "import warnings\n",
    "warnings.filterwarnings('ignore')\n",
    "\n",
    "df = pd.read_csv('../data/AdSmartABdata.csv')\n",
    "df.head()"
   ]
  },
  {
   "cell_type": "code",
   "execution_count": 72,
   "id": "aba86bde",
   "metadata": {},
   "outputs": [
    {
     "data": {
      "text/plain": [
       "(8077, 9)"
      ]
     },
     "execution_count": 72,
     "metadata": {},
     "output_type": "execute_result"
    }
   ],
   "source": [
    "df.shape"
   ]
  },
  {
   "cell_type": "code",
   "execution_count": 73,
   "id": "12cc7d3f",
   "metadata": {},
   "outputs": [],
   "source": [
    "def check_data(df):\n",
    "        print (\"People that didn't fill yes/no: \", df.loc[((df[\"yes\"]== 0) & (df[\"no\"]==0))].shape[0])\n",
    "        clean_df = df.loc[~((df[\"yes\"]== 0) & (df[\"no\"]==0))]\n",
    "        print(\"People answered either yes/no: \", clean_df.shape[0])\n",
    "        return df"
   ]
  },
  {
   "cell_type": "code",
   "execution_count": 74,
   "id": "a9c0c7b0",
   "metadata": {},
   "outputs": [
    {
     "name": "stdout",
     "output_type": "stream",
     "text": [
      "People that didn't fill yes/no:  6834\n",
      "People answered either yes/no:  1243\n"
     ]
    },
    {
     "data": {
      "text/html": [
       "<div>\n",
       "<style scoped>\n",
       "    .dataframe tbody tr th:only-of-type {\n",
       "        vertical-align: middle;\n",
       "    }\n",
       "\n",
       "    .dataframe tbody tr th {\n",
       "        vertical-align: top;\n",
       "    }\n",
       "\n",
       "    .dataframe thead th {\n",
       "        text-align: right;\n",
       "    }\n",
       "</style>\n",
       "<table border=\"1\" class=\"dataframe\">\n",
       "  <thead>\n",
       "    <tr style=\"text-align: right;\">\n",
       "      <th></th>\n",
       "      <th>auction_id</th>\n",
       "      <th>experiment</th>\n",
       "      <th>date</th>\n",
       "      <th>hour</th>\n",
       "      <th>device_make</th>\n",
       "      <th>platform_os</th>\n",
       "      <th>browser</th>\n",
       "      <th>yes</th>\n",
       "      <th>no</th>\n",
       "    </tr>\n",
       "  </thead>\n",
       "  <tbody>\n",
       "    <tr>\n",
       "      <th>0</th>\n",
       "      <td>0008ef63-77a7-448b-bd1e-075f42c55e39</td>\n",
       "      <td>exposed</td>\n",
       "      <td>2020-07-10</td>\n",
       "      <td>8</td>\n",
       "      <td>Generic Smartphone</td>\n",
       "      <td>6</td>\n",
       "      <td>Chrome Mobile</td>\n",
       "      <td>0</td>\n",
       "      <td>0</td>\n",
       "    </tr>\n",
       "    <tr>\n",
       "      <th>1</th>\n",
       "      <td>000eabc5-17ce-4137-8efe-44734d914446</td>\n",
       "      <td>exposed</td>\n",
       "      <td>2020-07-07</td>\n",
       "      <td>10</td>\n",
       "      <td>Generic Smartphone</td>\n",
       "      <td>6</td>\n",
       "      <td>Chrome Mobile</td>\n",
       "      <td>0</td>\n",
       "      <td>0</td>\n",
       "    </tr>\n",
       "    <tr>\n",
       "      <th>2</th>\n",
       "      <td>0016d14a-ae18-4a02-a204-6ba53b52f2ed</td>\n",
       "      <td>exposed</td>\n",
       "      <td>2020-07-05</td>\n",
       "      <td>2</td>\n",
       "      <td>E5823</td>\n",
       "      <td>6</td>\n",
       "      <td>Chrome Mobile WebView</td>\n",
       "      <td>0</td>\n",
       "      <td>1</td>\n",
       "    </tr>\n",
       "    <tr>\n",
       "      <th>3</th>\n",
       "      <td>00187412-2932-4542-a8ef-3633901c98d9</td>\n",
       "      <td>control</td>\n",
       "      <td>2020-07-03</td>\n",
       "      <td>15</td>\n",
       "      <td>Samsung SM-A705FN</td>\n",
       "      <td>6</td>\n",
       "      <td>Facebook</td>\n",
       "      <td>0</td>\n",
       "      <td>0</td>\n",
       "    </tr>\n",
       "    <tr>\n",
       "      <th>4</th>\n",
       "      <td>001a7785-d3fe-4e11-a344-c8735acacc2c</td>\n",
       "      <td>control</td>\n",
       "      <td>2020-07-03</td>\n",
       "      <td>15</td>\n",
       "      <td>Generic Smartphone</td>\n",
       "      <td>6</td>\n",
       "      <td>Chrome Mobile</td>\n",
       "      <td>0</td>\n",
       "      <td>0</td>\n",
       "    </tr>\n",
       "    <tr>\n",
       "      <th>...</th>\n",
       "      <td>...</td>\n",
       "      <td>...</td>\n",
       "      <td>...</td>\n",
       "      <td>...</td>\n",
       "      <td>...</td>\n",
       "      <td>...</td>\n",
       "      <td>...</td>\n",
       "      <td>...</td>\n",
       "      <td>...</td>\n",
       "    </tr>\n",
       "    <tr>\n",
       "      <th>8072</th>\n",
       "      <td>ffea24ec-cec1-43fb-b1d1-8f93828c2be2</td>\n",
       "      <td>exposed</td>\n",
       "      <td>2020-07-05</td>\n",
       "      <td>7</td>\n",
       "      <td>Generic Smartphone</td>\n",
       "      <td>6</td>\n",
       "      <td>Chrome Mobile</td>\n",
       "      <td>0</td>\n",
       "      <td>0</td>\n",
       "    </tr>\n",
       "    <tr>\n",
       "      <th>8073</th>\n",
       "      <td>ffea3210-2c3e-426f-a77d-0aa72e73b20f</td>\n",
       "      <td>control</td>\n",
       "      <td>2020-07-03</td>\n",
       "      <td>15</td>\n",
       "      <td>Generic Smartphone</td>\n",
       "      <td>6</td>\n",
       "      <td>Chrome Mobile</td>\n",
       "      <td>0</td>\n",
       "      <td>0</td>\n",
       "    </tr>\n",
       "    <tr>\n",
       "      <th>8074</th>\n",
       "      <td>ffeaa0f1-1d72-4ba9-afb4-314b3b00a7c7</td>\n",
       "      <td>control</td>\n",
       "      <td>2020-07-04</td>\n",
       "      <td>9</td>\n",
       "      <td>Generic Smartphone</td>\n",
       "      <td>6</td>\n",
       "      <td>Chrome Mobile</td>\n",
       "      <td>0</td>\n",
       "      <td>0</td>\n",
       "    </tr>\n",
       "    <tr>\n",
       "      <th>8075</th>\n",
       "      <td>ffeeed62-3f7c-4a6e-8ba7-95d303d40969</td>\n",
       "      <td>exposed</td>\n",
       "      <td>2020-07-05</td>\n",
       "      <td>15</td>\n",
       "      <td>Samsung SM-A515F</td>\n",
       "      <td>6</td>\n",
       "      <td>Samsung Internet</td>\n",
       "      <td>0</td>\n",
       "      <td>0</td>\n",
       "    </tr>\n",
       "    <tr>\n",
       "      <th>8076</th>\n",
       "      <td>fffbb9ff-568a-41a5-a0c3-6866592f80d8</td>\n",
       "      <td>control</td>\n",
       "      <td>2020-07-10</td>\n",
       "      <td>14</td>\n",
       "      <td>Samsung SM-G960F</td>\n",
       "      <td>6</td>\n",
       "      <td>Facebook</td>\n",
       "      <td>0</td>\n",
       "      <td>0</td>\n",
       "    </tr>\n",
       "  </tbody>\n",
       "</table>\n",
       "<p>8077 rows × 9 columns</p>\n",
       "</div>"
      ],
      "text/plain": [
       "                                auction_id experiment        date  hour  \\\n",
       "0     0008ef63-77a7-448b-bd1e-075f42c55e39    exposed  2020-07-10     8   \n",
       "1     000eabc5-17ce-4137-8efe-44734d914446    exposed  2020-07-07    10   \n",
       "2     0016d14a-ae18-4a02-a204-6ba53b52f2ed    exposed  2020-07-05     2   \n",
       "3     00187412-2932-4542-a8ef-3633901c98d9    control  2020-07-03    15   \n",
       "4     001a7785-d3fe-4e11-a344-c8735acacc2c    control  2020-07-03    15   \n",
       "...                                    ...        ...         ...   ...   \n",
       "8072  ffea24ec-cec1-43fb-b1d1-8f93828c2be2    exposed  2020-07-05     7   \n",
       "8073  ffea3210-2c3e-426f-a77d-0aa72e73b20f    control  2020-07-03    15   \n",
       "8074  ffeaa0f1-1d72-4ba9-afb4-314b3b00a7c7    control  2020-07-04     9   \n",
       "8075  ffeeed62-3f7c-4a6e-8ba7-95d303d40969    exposed  2020-07-05    15   \n",
       "8076  fffbb9ff-568a-41a5-a0c3-6866592f80d8    control  2020-07-10    14   \n",
       "\n",
       "             device_make  platform_os                browser  yes  no  \n",
       "0     Generic Smartphone            6          Chrome Mobile    0   0  \n",
       "1     Generic Smartphone            6          Chrome Mobile    0   0  \n",
       "2                  E5823            6  Chrome Mobile WebView    0   1  \n",
       "3      Samsung SM-A705FN            6               Facebook    0   0  \n",
       "4     Generic Smartphone            6          Chrome Mobile    0   0  \n",
       "...                  ...          ...                    ...  ...  ..  \n",
       "8072  Generic Smartphone            6          Chrome Mobile    0   0  \n",
       "8073  Generic Smartphone            6          Chrome Mobile    0   0  \n",
       "8074  Generic Smartphone            6          Chrome Mobile    0   0  \n",
       "8075    Samsung SM-A515F            6       Samsung Internet    0   0  \n",
       "8076    Samsung SM-G960F            6               Facebook    0   0  \n",
       "\n",
       "[8077 rows x 9 columns]"
      ]
     },
     "execution_count": 74,
     "metadata": {},
     "output_type": "execute_result"
    }
   ],
   "source": [
    "check_data(df)"
   ]
  },
  {
   "cell_type": "code",
   "execution_count": 75,
   "id": "dc9dcd20",
   "metadata": {},
   "outputs": [
    {
     "name": "stdout",
     "output_type": "stream",
     "text": [
      "<class 'pandas.core.frame.DataFrame'>\n",
      "RangeIndex: 8077 entries, 0 to 8076\n",
      "Data columns (total 9 columns):\n",
      " #   Column       Non-Null Count  Dtype \n",
      "---  ------       --------------  ----- \n",
      " 0   auction_id   8077 non-null   object\n",
      " 1   experiment   8077 non-null   object\n",
      " 2   date         8077 non-null   object\n",
      " 3   hour         8077 non-null   int64 \n",
      " 4   device_make  8077 non-null   object\n",
      " 5   platform_os  8077 non-null   int64 \n",
      " 6   browser      8077 non-null   object\n",
      " 7   yes          8077 non-null   int64 \n",
      " 8   no           8077 non-null   int64 \n",
      "dtypes: int64(4), object(5)\n",
      "memory usage: 568.0+ KB\n"
     ]
    }
   ],
   "source": [
    "df.info()"
   ]
  },
  {
   "cell_type": "code",
   "execution_count": 76,
   "id": "7fad5079",
   "metadata": {},
   "outputs": [],
   "source": [
    "#categorical vs. numerical\n",
    "\n",
    "def catagory(df):\n",
    "    numerical_column = df.select_dtypes(exclude=\"object\").columns.tolist()\n",
    "    categorical_column = df.select_dtypes(include=\"object\").columns.tolist()\n",
    "    print(\"Numerical Columns:\", numerical_column)\n",
    "    print(\"****************\")\n",
    "    print(\"Categorical Columns:\", categorical_column)"
   ]
  },
  {
   "cell_type": "code",
   "execution_count": 77,
   "id": "3ce42ed3",
   "metadata": {},
   "outputs": [
    {
     "name": "stdout",
     "output_type": "stream",
     "text": [
      "People that didn't fill yes/no:  6834\n",
      "People answered either yes/no:  1243\n",
      "Numerical Columns: ['hour', 'platform_os', 'yes', 'no']\n",
      "****************\n",
      "Categorical Columns: ['auction_id', 'experiment', 'date', 'device_make', 'browser']\n"
     ]
    }
   ],
   "source": [
    "#general info\n",
    "pipe = Pipeline(steps=[ (\"check_data\", FunctionTransformer(check_data)),\n",
    "                        (\"category\", FunctionTransformer(catagory))])\n",
    "pipe.fit_transform(df)"
   ]
  },
  {
   "cell_type": "code",
   "execution_count": 78,
   "id": "b65b5282",
   "metadata": {},
   "outputs": [
    {
     "name": "stdout",
     "output_type": "stream",
     "text": [
      "no repeated impression id\n"
     ]
    }
   ],
   "source": [
    "#check duplicate id\n",
    "if(df.nunique()['auction_id']==8077):\n",
    "    print(\"no repeated impression id\")"
   ]
  },
  {
   "cell_type": "code",
   "execution_count": 79,
   "id": "396e1230",
   "metadata": {},
   "outputs": [],
   "source": [
    "#group users\n",
    "def groups(df):\n",
    "    aggregat_contorl = df.groupby('experiment').agg({'auction_id': 'count'})['auction_id']['control']\n",
    "    aggregat_exposed  = df.groupby('experiment').agg({'auction_id': 'count'})['auction_id']['exposed']\n",
    "    print(f\"users that belong to control group are {aggregat_contorl}\")\n",
    "    print(f\"users that belong to exposed group are {aggregat_exposed}\")\n",
    "    return df"
   ]
  },
  {
   "cell_type": "code",
   "execution_count": 80,
   "id": "4aac460a",
   "metadata": {},
   "outputs": [
    {
     "name": "stdout",
     "output_type": "stream",
     "text": [
      "users that belong to control group are 4071\n",
      "users that belong to exposed group are 4006\n"
     ]
    },
    {
     "data": {
      "text/html": [
       "<div>\n",
       "<style scoped>\n",
       "    .dataframe tbody tr th:only-of-type {\n",
       "        vertical-align: middle;\n",
       "    }\n",
       "\n",
       "    .dataframe tbody tr th {\n",
       "        vertical-align: top;\n",
       "    }\n",
       "\n",
       "    .dataframe thead th {\n",
       "        text-align: right;\n",
       "    }\n",
       "</style>\n",
       "<table border=\"1\" class=\"dataframe\">\n",
       "  <thead>\n",
       "    <tr style=\"text-align: right;\">\n",
       "      <th></th>\n",
       "      <th>auction_id</th>\n",
       "      <th>experiment</th>\n",
       "      <th>date</th>\n",
       "      <th>hour</th>\n",
       "      <th>device_make</th>\n",
       "      <th>platform_os</th>\n",
       "      <th>browser</th>\n",
       "      <th>yes</th>\n",
       "      <th>no</th>\n",
       "    </tr>\n",
       "  </thead>\n",
       "  <tbody>\n",
       "    <tr>\n",
       "      <th>0</th>\n",
       "      <td>0008ef63-77a7-448b-bd1e-075f42c55e39</td>\n",
       "      <td>exposed</td>\n",
       "      <td>2020-07-10</td>\n",
       "      <td>8</td>\n",
       "      <td>Generic Smartphone</td>\n",
       "      <td>6</td>\n",
       "      <td>Chrome Mobile</td>\n",
       "      <td>0</td>\n",
       "      <td>0</td>\n",
       "    </tr>\n",
       "    <tr>\n",
       "      <th>1</th>\n",
       "      <td>000eabc5-17ce-4137-8efe-44734d914446</td>\n",
       "      <td>exposed</td>\n",
       "      <td>2020-07-07</td>\n",
       "      <td>10</td>\n",
       "      <td>Generic Smartphone</td>\n",
       "      <td>6</td>\n",
       "      <td>Chrome Mobile</td>\n",
       "      <td>0</td>\n",
       "      <td>0</td>\n",
       "    </tr>\n",
       "    <tr>\n",
       "      <th>2</th>\n",
       "      <td>0016d14a-ae18-4a02-a204-6ba53b52f2ed</td>\n",
       "      <td>exposed</td>\n",
       "      <td>2020-07-05</td>\n",
       "      <td>2</td>\n",
       "      <td>E5823</td>\n",
       "      <td>6</td>\n",
       "      <td>Chrome Mobile WebView</td>\n",
       "      <td>0</td>\n",
       "      <td>1</td>\n",
       "    </tr>\n",
       "    <tr>\n",
       "      <th>3</th>\n",
       "      <td>00187412-2932-4542-a8ef-3633901c98d9</td>\n",
       "      <td>control</td>\n",
       "      <td>2020-07-03</td>\n",
       "      <td>15</td>\n",
       "      <td>Samsung SM-A705FN</td>\n",
       "      <td>6</td>\n",
       "      <td>Facebook</td>\n",
       "      <td>0</td>\n",
       "      <td>0</td>\n",
       "    </tr>\n",
       "    <tr>\n",
       "      <th>4</th>\n",
       "      <td>001a7785-d3fe-4e11-a344-c8735acacc2c</td>\n",
       "      <td>control</td>\n",
       "      <td>2020-07-03</td>\n",
       "      <td>15</td>\n",
       "      <td>Generic Smartphone</td>\n",
       "      <td>6</td>\n",
       "      <td>Chrome Mobile</td>\n",
       "      <td>0</td>\n",
       "      <td>0</td>\n",
       "    </tr>\n",
       "    <tr>\n",
       "      <th>...</th>\n",
       "      <td>...</td>\n",
       "      <td>...</td>\n",
       "      <td>...</td>\n",
       "      <td>...</td>\n",
       "      <td>...</td>\n",
       "      <td>...</td>\n",
       "      <td>...</td>\n",
       "      <td>...</td>\n",
       "      <td>...</td>\n",
       "    </tr>\n",
       "    <tr>\n",
       "      <th>8072</th>\n",
       "      <td>ffea24ec-cec1-43fb-b1d1-8f93828c2be2</td>\n",
       "      <td>exposed</td>\n",
       "      <td>2020-07-05</td>\n",
       "      <td>7</td>\n",
       "      <td>Generic Smartphone</td>\n",
       "      <td>6</td>\n",
       "      <td>Chrome Mobile</td>\n",
       "      <td>0</td>\n",
       "      <td>0</td>\n",
       "    </tr>\n",
       "    <tr>\n",
       "      <th>8073</th>\n",
       "      <td>ffea3210-2c3e-426f-a77d-0aa72e73b20f</td>\n",
       "      <td>control</td>\n",
       "      <td>2020-07-03</td>\n",
       "      <td>15</td>\n",
       "      <td>Generic Smartphone</td>\n",
       "      <td>6</td>\n",
       "      <td>Chrome Mobile</td>\n",
       "      <td>0</td>\n",
       "      <td>0</td>\n",
       "    </tr>\n",
       "    <tr>\n",
       "      <th>8074</th>\n",
       "      <td>ffeaa0f1-1d72-4ba9-afb4-314b3b00a7c7</td>\n",
       "      <td>control</td>\n",
       "      <td>2020-07-04</td>\n",
       "      <td>9</td>\n",
       "      <td>Generic Smartphone</td>\n",
       "      <td>6</td>\n",
       "      <td>Chrome Mobile</td>\n",
       "      <td>0</td>\n",
       "      <td>0</td>\n",
       "    </tr>\n",
       "    <tr>\n",
       "      <th>8075</th>\n",
       "      <td>ffeeed62-3f7c-4a6e-8ba7-95d303d40969</td>\n",
       "      <td>exposed</td>\n",
       "      <td>2020-07-05</td>\n",
       "      <td>15</td>\n",
       "      <td>Samsung SM-A515F</td>\n",
       "      <td>6</td>\n",
       "      <td>Samsung Internet</td>\n",
       "      <td>0</td>\n",
       "      <td>0</td>\n",
       "    </tr>\n",
       "    <tr>\n",
       "      <th>8076</th>\n",
       "      <td>fffbb9ff-568a-41a5-a0c3-6866592f80d8</td>\n",
       "      <td>control</td>\n",
       "      <td>2020-07-10</td>\n",
       "      <td>14</td>\n",
       "      <td>Samsung SM-G960F</td>\n",
       "      <td>6</td>\n",
       "      <td>Facebook</td>\n",
       "      <td>0</td>\n",
       "      <td>0</td>\n",
       "    </tr>\n",
       "  </tbody>\n",
       "</table>\n",
       "<p>8077 rows × 9 columns</p>\n",
       "</div>"
      ],
      "text/plain": [
       "                                auction_id experiment        date  hour  \\\n",
       "0     0008ef63-77a7-448b-bd1e-075f42c55e39    exposed  2020-07-10     8   \n",
       "1     000eabc5-17ce-4137-8efe-44734d914446    exposed  2020-07-07    10   \n",
       "2     0016d14a-ae18-4a02-a204-6ba53b52f2ed    exposed  2020-07-05     2   \n",
       "3     00187412-2932-4542-a8ef-3633901c98d9    control  2020-07-03    15   \n",
       "4     001a7785-d3fe-4e11-a344-c8735acacc2c    control  2020-07-03    15   \n",
       "...                                    ...        ...         ...   ...   \n",
       "8072  ffea24ec-cec1-43fb-b1d1-8f93828c2be2    exposed  2020-07-05     7   \n",
       "8073  ffea3210-2c3e-426f-a77d-0aa72e73b20f    control  2020-07-03    15   \n",
       "8074  ffeaa0f1-1d72-4ba9-afb4-314b3b00a7c7    control  2020-07-04     9   \n",
       "8075  ffeeed62-3f7c-4a6e-8ba7-95d303d40969    exposed  2020-07-05    15   \n",
       "8076  fffbb9ff-568a-41a5-a0c3-6866592f80d8    control  2020-07-10    14   \n",
       "\n",
       "             device_make  platform_os                browser  yes  no  \n",
       "0     Generic Smartphone            6          Chrome Mobile    0   0  \n",
       "1     Generic Smartphone            6          Chrome Mobile    0   0  \n",
       "2                  E5823            6  Chrome Mobile WebView    0   1  \n",
       "3      Samsung SM-A705FN            6               Facebook    0   0  \n",
       "4     Generic Smartphone            6          Chrome Mobile    0   0  \n",
       "...                  ...          ...                    ...  ...  ..  \n",
       "8072  Generic Smartphone            6          Chrome Mobile    0   0  \n",
       "8073  Generic Smartphone            6          Chrome Mobile    0   0  \n",
       "8074  Generic Smartphone            6          Chrome Mobile    0   0  \n",
       "8075    Samsung SM-A515F            6       Samsung Internet    0   0  \n",
       "8076    Samsung SM-G960F            6               Facebook    0   0  \n",
       "\n",
       "[8077 rows x 9 columns]"
      ]
     },
     "execution_count": 80,
     "metadata": {},
     "output_type": "execute_result"
    }
   ],
   "source": [
    "groups(df)"
   ]
  },
  {
   "cell_type": "markdown",
   "id": "ce1d77b7",
   "metadata": {},
   "source": [
    "* if both section of yes and no is 0, then the users didn't answered\n",
    "* let us filter out those who answered either yes or no"
   ]
  },
  {
   "cell_type": "code",
   "execution_count": 91,
   "id": "f304411a",
   "metadata": {},
   "outputs": [
    {
     "name": "stdout",
     "output_type": "stream",
     "text": [
      "There are 1243 rows and 9 columns with users answering yes or no\n"
     ]
    }
   ],
   "source": [
    "#answered yes or no\n",
    "answered = df.query('yes==1 or no==1')\n",
    "print(f\"There are {answered.shape[0]} rows and {answered.shape[1]} columns with users answering yes or no\")"
   ]
  },
  {
   "cell_type": "markdown",
   "id": "1c4c5842",
   "metadata": {},
   "source": [
    "* plots of control and exposed group users"
   ]
  },
  {
   "cell_type": "code",
   "execution_count": 93,
   "id": "45461124",
   "metadata": {},
   "outputs": [],
   "source": [
    "#Visualizing experiment using barplot\n",
    "def plot_experiment(df):    \n",
    "    sns.set()\n",
    "    df['experiment'].value_counts().plot(kind='bar')\n",
    "    plt.title('Bar plot',fontsize=15)\n",
    "    plt.xlabel('experiment',fontsize=12),plt.ylabel('count',fontsize=12)\n",
    "    plt.show()\n"
   ]
  },
  {
   "cell_type": "code",
   "execution_count": 94,
   "id": "7dca200a",
   "metadata": {},
   "outputs": [
    {
     "data": {
      "image/png": "[encoded data removed]",
      "text/plain": [
       "<Figure size 432x288 with 1 Axes>"
      ]
     },
     "metadata": {},
     "output_type": "display_data"
    }
   ],
   "source": [
    "pipe = Pipeline(steps=[(\"plot_experiment\", FunctionTransformer(plot_experiment))])\n",
    "pipe.fit_transform(df)"
   ]
  },
  {
   "cell_type": "code",
   "execution_count": 95,
   "id": "9af5bad4",
   "metadata": {},
   "outputs": [
    {
     "data": {
      "image/png": "[encoded data removed]",
      "text/plain": [
       "<Figure size 432x288 with 1 Axes>"
      ]
     },
     "metadata": {},
     "output_type": "display_data"
    },
    {
     "name": "stdout",
     "output_type": "stream",
     "text": [
      "Number of users who repsonded positively in the controled group are 264\n",
      "while 322 who responded negatively\n",
      "Number of users who repsonded positively in the exposed group are 308\n",
      "while 349 who responded negatively\n"
     ]
    }
   ],
   "source": [
    "# Identifying the exposed group and control group\n",
    "\n",
    "exposed_df = df[df['experiment'] == 'exposed']\n",
    "\n",
    "control_df = df[df['experiment'] == 'control']\n",
    "\n",
    "\n",
    "def exp_cont(df):\n",
    "    aggr_response = df.groupby('experiment').agg({'yes': 'sum', 'no': 'sum'}).plot(kind='bar')\n",
    "    plt.title(\"The number of yes and no answers per experiment\")\n",
    "    plt.show()\n",
    "\n",
    "    #get users who repsonded positively in the exposed group\n",
    "    control_df_pos_response = control_df[control_df['yes'] == 1]\n",
    "    control_df_neg_response = control_df[control_df['no'] == 1]\n",
    "    #get users who repsonded positively in the exposed group\n",
    "    exposed_pos_response = exposed_df[exposed_df['yes'] == 1]\n",
    "    exposed_df_neg_response = exposed_df[exposed_df['no'] == 1]\n",
    "\n",
    "    print(f\"Number of users who repsonded positively in the controled group are {control_df_pos_response.shape[0]}\")\n",
    "    print(f\"while {control_df_neg_response.shape[0]} who responded negatively\")\n",
    "\n",
    "\n",
    "    print(f\"Number of users who repsonded positively in the exposed group are {exposed_pos_response.shape[0]}\")\n",
    "    print(f\"while {exposed_df_neg_response.shape[0]} who responded negatively\")\n",
    "    \n",
    "exp_cont(df)"
   ]
  },
  {
   "cell_type": "code",
   "execution_count": 96,
   "id": "b0c5343f",
   "metadata": {},
   "outputs": [
    {
     "data": {
      "text/html": [
       "<div>\n",
       "<style scoped>\n",
       "    .dataframe tbody tr th:only-of-type {\n",
       "        vertical-align: middle;\n",
       "    }\n",
       "\n",
       "    .dataframe tbody tr th {\n",
       "        vertical-align: top;\n",
       "    }\n",
       "\n",
       "    .dataframe thead th {\n",
       "        text-align: right;\n",
       "    }\n",
       "</style>\n",
       "<table border=\"1\" class=\"dataframe\">\n",
       "  <thead>\n",
       "    <tr style=\"text-align: right;\">\n",
       "      <th></th>\n",
       "      <th>auction_id</th>\n",
       "      <th>experiment</th>\n",
       "      <th>date</th>\n",
       "      <th>hour</th>\n",
       "      <th>device_make</th>\n",
       "      <th>platform_os</th>\n",
       "      <th>browser</th>\n",
       "      <th>response</th>\n",
       "    </tr>\n",
       "  </thead>\n",
       "  <tbody>\n",
       "    <tr>\n",
       "      <th>0</th>\n",
       "      <td>7945f382-6d4a-4487-9311-27004eed1012</td>\n",
       "      <td>control</td>\n",
       "      <td>2020-07-05</td>\n",
       "      <td>14</td>\n",
       "      <td>MAR-LX1A</td>\n",
       "      <td>6</td>\n",
       "      <td>Facebook</td>\n",
       "      <td>1</td>\n",
       "    </tr>\n",
       "    <tr>\n",
       "      <th>1</th>\n",
       "      <td>5ddca3a0-256b-4e41-8f72-dc201b8a26f5</td>\n",
       "      <td>control</td>\n",
       "      <td>2020-07-03</td>\n",
       "      <td>15</td>\n",
       "      <td>Generic Smartphone</td>\n",
       "      <td>6</td>\n",
       "      <td>Chrome Mobile</td>\n",
       "      <td>1</td>\n",
       "    </tr>\n",
       "    <tr>\n",
       "      <th>2</th>\n",
       "      <td>8257ea69-d84b-4740-a1dc-e3c65850c0ce</td>\n",
       "      <td>control</td>\n",
       "      <td>2020-07-05</td>\n",
       "      <td>21</td>\n",
       "      <td>Generic Smartphone</td>\n",
       "      <td>6</td>\n",
       "      <td>Chrome Mobile</td>\n",
       "      <td>0</td>\n",
       "    </tr>\n",
       "    <tr>\n",
       "      <th>3</th>\n",
       "      <td>8e4faab7-7026-4d9d-9a7f-1cbc2173a45d</td>\n",
       "      <td>exposed</td>\n",
       "      <td>2020-07-08</td>\n",
       "      <td>22</td>\n",
       "      <td>Generic Smartphone</td>\n",
       "      <td>6</td>\n",
       "      <td>Chrome Mobile</td>\n",
       "      <td>1</td>\n",
       "    </tr>\n",
       "    <tr>\n",
       "      <th>4</th>\n",
       "      <td>0cc5c45f-a874-4a57-bf3d-0ff5b77113ef</td>\n",
       "      <td>control</td>\n",
       "      <td>2020-07-03</td>\n",
       "      <td>15</td>\n",
       "      <td>Samsung SM-G950F</td>\n",
       "      <td>6</td>\n",
       "      <td>Chrome Mobile WebView</td>\n",
       "      <td>1</td>\n",
       "    </tr>\n",
       "  </tbody>\n",
       "</table>\n",
       "</div>"
      ],
      "text/plain": [
       "                             auction_id experiment        date  hour  \\\n",
       "0  7945f382-6d4a-4487-9311-27004eed1012    control  2020-07-05    14   \n",
       "1  5ddca3a0-256b-4e41-8f72-dc201b8a26f5    control  2020-07-03    15   \n",
       "2  8257ea69-d84b-4740-a1dc-e3c65850c0ce    control  2020-07-05    21   \n",
       "3  8e4faab7-7026-4d9d-9a7f-1cbc2173a45d    exposed  2020-07-08    22   \n",
       "4  0cc5c45f-a874-4a57-bf3d-0ff5b77113ef    control  2020-07-03    15   \n",
       "\n",
       "          device_make  platform_os                browser  response  \n",
       "0            MAR-LX1A            6               Facebook         1  \n",
       "1  Generic Smartphone            6          Chrome Mobile         1  \n",
       "2  Generic Smartphone            6          Chrome Mobile         0  \n",
       "3  Generic Smartphone            6          Chrome Mobile         1  \n",
       "4    Samsung SM-G950F            6  Chrome Mobile WebView         1  "
      ]
     },
     "execution_count": 96,
     "metadata": {},
     "output_type": "execute_result"
    }
   ],
   "source": [
    " #All users who answered yes\n",
    "yes_df = control_df[control_df['yes'] == 1].append(exposed_df[exposed_df['yes'] == 1])\n",
    "yes_df = yes_df.drop(['yes','no'], axis = 1)\n",
    "yes_df['response'] = 1\n",
    "#All users who answered no\n",
    "no_df = control_df[control_df['no'] == 1].append(exposed_df[exposed_df['no'] == 1])\n",
    "no_df = no_df.drop(['yes','no'], axis = 1)\n",
    "no_df['response'] = 0\n",
    "#Final Combined dataframe will be\n",
    "combined_df = yes_df.append(no_df)\n",
    "combined_df = combined_df.sample(frac=1).reset_index(drop=True)\n",
    "combined_df.head(5)"
   ]
  },
  {
   "cell_type": "markdown",
   "id": "95ae8ea6",
   "metadata": {},
   "source": [
    ">All user that responded 'yes' are assigned to 1<br>\n",
    ">All user that responded 'no' are assigned to 0<br>\n",
    ">The results then assigned to response column for better analysis"
   ]
  },
  {
   "cell_type": "markdown",
   "id": "6162b0a3",
   "metadata": {},
   "source": [
    "#### Grouping the result by browser"
   ]
  },
  {
   "cell_type": "code",
   "execution_count": 87,
   "id": "23155c93",
   "metadata": {},
   "outputs": [
    {
     "data": {
      "text/html": [
       "<div>\n",
       "<style scoped>\n",
       "    .dataframe tbody tr th:only-of-type {\n",
       "        vertical-align: middle;\n",
       "    }\n",
       "\n",
       "    .dataframe tbody tr th {\n",
       "        vertical-align: top;\n",
       "    }\n",
       "\n",
       "    .dataframe thead th {\n",
       "        text-align: right;\n",
       "    }\n",
       "</style>\n",
       "<table border=\"1\" class=\"dataframe\">\n",
       "  <thead>\n",
       "    <tr style=\"text-align: right;\">\n",
       "      <th></th>\n",
       "      <th>experiment</th>\n",
       "      <th>hour</th>\n",
       "      <th>response</th>\n",
       "    </tr>\n",
       "    <tr>\n",
       "      <th>browser</th>\n",
       "      <th></th>\n",
       "      <th></th>\n",
       "      <th></th>\n",
       "    </tr>\n",
       "  </thead>\n",
       "  <tbody>\n",
       "    <tr>\n",
       "      <th>Chrome</th>\n",
       "      <td>2</td>\n",
       "      <td>27</td>\n",
       "      <td>1</td>\n",
       "    </tr>\n",
       "    <tr>\n",
       "      <th>Chrome Mobile</th>\n",
       "      <td>695</td>\n",
       "      <td>8041</td>\n",
       "      <td>314</td>\n",
       "    </tr>\n",
       "    <tr>\n",
       "      <th>Chrome Mobile WebView</th>\n",
       "      <td>227</td>\n",
       "      <td>2403</td>\n",
       "      <td>116</td>\n",
       "    </tr>\n",
       "    <tr>\n",
       "      <th>Chrome Mobile iOS</th>\n",
       "      <td>1</td>\n",
       "      <td>11</td>\n",
       "      <td>1</td>\n",
       "    </tr>\n",
       "    <tr>\n",
       "      <th>Facebook</th>\n",
       "      <td>156</td>\n",
       "      <td>1957</td>\n",
       "      <td>69</td>\n",
       "    </tr>\n",
       "    <tr>\n",
       "      <th>Mobile Safari</th>\n",
       "      <td>14</td>\n",
       "      <td>123</td>\n",
       "      <td>4</td>\n",
       "    </tr>\n",
       "    <tr>\n",
       "      <th>Mobile Safari UI/WKWebView</th>\n",
       "      <td>3</td>\n",
       "      <td>46</td>\n",
       "      <td>0</td>\n",
       "    </tr>\n",
       "    <tr>\n",
       "      <th>Samsung Internet</th>\n",
       "      <td>145</td>\n",
       "      <td>1712</td>\n",
       "      <td>67</td>\n",
       "    </tr>\n",
       "  </tbody>\n",
       "</table>\n",
       "</div>"
      ],
      "text/plain": [
       "                            experiment  hour  response\n",
       "browser                                               \n",
       "Chrome                               2    27         1\n",
       "Chrome Mobile                      695  8041       314\n",
       "Chrome Mobile WebView              227  2403       116\n",
       "Chrome Mobile iOS                    1    11         1\n",
       "Facebook                           156  1957        69\n",
       "Mobile Safari                       14   123         4\n",
       "Mobile Safari UI/WKWebView           3    46         0\n",
       "Samsung Internet                   145  1712        67"
      ]
     },
     "execution_count": 87,
     "metadata": {},
     "output_type": "execute_result"
    }
   ],
   "source": [
    "browser_group_df = combined_df.groupby('browser').agg(\n",
    "    {'experiment': 'count', 'hour': 'sum', 'response': 'sum'})\n",
    "browser_group_df"
   ]
  },
  {
   "cell_type": "markdown",
   "id": "a9ea81df",
   "metadata": {},
   "source": [
    ">Highest number of response were recorded on Chrome mobile"
   ]
  },
  {
   "cell_type": "markdown",
   "id": "2d8ae451",
   "metadata": {},
   "source": [
    "* PLOT OF USED BROWSERS"
   ]
  },
  {
   "cell_type": "code",
   "execution_count": 88,
   "id": "a9405665",
   "metadata": {},
   "outputs": [
    {
     "data": {
      "text/plain": [
       "Text(0.5, 1.0, 'Used Browsers')"
      ]
     },
     "execution_count": 88,
     "metadata": {},
     "output_type": "execute_result"
    },
    {
     "data": {
      "image/png": "[encoded data removed]",
      "text/plain": [
       "<Figure size 648x504 with 1 Axes>"
      ]
     },
     "metadata": {},
     "output_type": "display_data"
    }
   ],
   "source": [
    "plt.figure(figsize=(9,7))\n",
    "ax= sns.countplot(x ='browser', data = df) \n",
    "ax.set_xticklabels(ax.get_xticklabels(), rotation=60, ha=\"right\")\n",
    "plt.tight_layout()\n",
    "ax.set_xlabel('Browser', fontsize=15)\n",
    "ax.set_ylabel('Count' , fontsize=15)\n",
    "ax.set_title('Used Browsers', fontsize=15, fontweight='bold')"
   ]
  },
  {
   "cell_type": "markdown",
   "id": "735418cd",
   "metadata": {},
   "source": [
    "#### Grouping the result by date"
   ]
  },
  {
   "cell_type": "code",
   "execution_count": 89,
   "id": "870f139c",
   "metadata": {},
   "outputs": [
    {
     "data": {
      "text/html": [
       "<div>\n",
       "<style scoped>\n",
       "    .dataframe tbody tr th:only-of-type {\n",
       "        vertical-align: middle;\n",
       "    }\n",
       "\n",
       "    .dataframe tbody tr th {\n",
       "        vertical-align: top;\n",
       "    }\n",
       "\n",
       "    .dataframe thead th {\n",
       "        text-align: right;\n",
       "    }\n",
       "</style>\n",
       "<table border=\"1\" class=\"dataframe\">\n",
       "  <thead>\n",
       "    <tr style=\"text-align: right;\">\n",
       "      <th></th>\n",
       "      <th>experiment</th>\n",
       "      <th>hour</th>\n",
       "      <th>response</th>\n",
       "    </tr>\n",
       "    <tr>\n",
       "      <th>date</th>\n",
       "      <th></th>\n",
       "      <th></th>\n",
       "      <th></th>\n",
       "    </tr>\n",
       "  </thead>\n",
       "  <tbody>\n",
       "    <tr>\n",
       "      <th>2020-07-03</th>\n",
       "      <td>325</td>\n",
       "      <td>4215</td>\n",
       "      <td>147</td>\n",
       "    </tr>\n",
       "    <tr>\n",
       "      <th>2020-07-04</th>\n",
       "      <td>159</td>\n",
       "      <td>1694</td>\n",
       "      <td>76</td>\n",
       "    </tr>\n",
       "    <tr>\n",
       "      <th>2020-07-05</th>\n",
       "      <td>117</td>\n",
       "      <td>1124</td>\n",
       "      <td>52</td>\n",
       "    </tr>\n",
       "    <tr>\n",
       "      <th>2020-07-06</th>\n",
       "      <td>74</td>\n",
       "      <td>417</td>\n",
       "      <td>35</td>\n",
       "    </tr>\n",
       "    <tr>\n",
       "      <th>2020-07-07</th>\n",
       "      <td>83</td>\n",
       "      <td>934</td>\n",
       "      <td>38</td>\n",
       "    </tr>\n",
       "    <tr>\n",
       "      <th>2020-07-08</th>\n",
       "      <td>177</td>\n",
       "      <td>2817</td>\n",
       "      <td>85</td>\n",
       "    </tr>\n",
       "    <tr>\n",
       "      <th>2020-07-09</th>\n",
       "      <td>184</td>\n",
       "      <td>2179</td>\n",
       "      <td>85</td>\n",
       "    </tr>\n",
       "    <tr>\n",
       "      <th>2020-07-10</th>\n",
       "      <td>124</td>\n",
       "      <td>940</td>\n",
       "      <td>54</td>\n",
       "    </tr>\n",
       "  </tbody>\n",
       "</table>\n",
       "</div>"
      ],
      "text/plain": [
       "            experiment  hour  response\n",
       "date                                  \n",
       "2020-07-03         325  4215       147\n",
       "2020-07-04         159  1694        76\n",
       "2020-07-05         117  1124        52\n",
       "2020-07-06          74   417        35\n",
       "2020-07-07          83   934        38\n",
       "2020-07-08         177  2817        85\n",
       "2020-07-09         184  2179        85\n",
       "2020-07-10         124   940        54"
      ]
     },
     "execution_count": 89,
     "metadata": {},
     "output_type": "execute_result"
    }
   ],
   "source": [
    "date_group_df = combined_df.groupby('date').agg({'experiment':'count','hour':'sum','response':'sum'})\n",
    "date_group_df"
   ]
  },
  {
   "cell_type": "markdown",
   "id": "13f9ed29",
   "metadata": {},
   "source": [
    ">147 responeses were recorded on date 2020-07-03<br>\n"
   ]
  },
  {
   "cell_type": "markdown",
   "id": "a201c959",
   "metadata": {},
   "source": [
    "* PLOT FOR DATE"
   ]
  },
  {
   "cell_type": "code",
   "execution_count": 97,
   "id": "847c6484",
   "metadata": {},
   "outputs": [
    {
     "data": {
      "image/png": "[encoded data removed]",
      "text/plain": [
       "<Figure size 864x504 with 1 Axes>"
      ]
     },
     "metadata": {},
     "output_type": "display_data"
    }
   ],
   "source": [
    "def plot_count(df:pd.DataFrame, column:str) -> None:\n",
    "    plt.figure(figsize=(12, 7))\n",
    "    sns.countplot(data=df, x=column)\n",
    "    plt.title(f'Plot count of {column}', size=20, fontweight='bold')\n",
    "    \n",
    "plot_count(answered, 'date')"
   ]
  },
  {
   "cell_type": "markdown",
   "id": "1c9f572d",
   "metadata": {},
   "source": [
    "* Most of the data was collected on the first date"
   ]
  },
  {
   "cell_type": "markdown",
   "id": "f1900491",
   "metadata": {},
   "source": [
    "#### Grouping the result by device"
   ]
  },
  {
   "cell_type": "code",
   "execution_count": 98,
   "id": "4d5e0a63",
   "metadata": {},
   "outputs": [
    {
     "data": {
      "text/html": [
       "<div>\n",
       "<style scoped>\n",
       "    .dataframe tbody tr th:only-of-type {\n",
       "        vertical-align: middle;\n",
       "    }\n",
       "\n",
       "    .dataframe tbody tr th {\n",
       "        vertical-align: top;\n",
       "    }\n",
       "\n",
       "    .dataframe thead th {\n",
       "        text-align: right;\n",
       "    }\n",
       "</style>\n",
       "<table border=\"1\" class=\"dataframe\">\n",
       "  <thead>\n",
       "    <tr style=\"text-align: right;\">\n",
       "      <th></th>\n",
       "      <th>experiment</th>\n",
       "      <th>hour</th>\n",
       "      <th>response</th>\n",
       "    </tr>\n",
       "    <tr>\n",
       "      <th>device_make</th>\n",
       "      <th></th>\n",
       "      <th></th>\n",
       "      <th></th>\n",
       "    </tr>\n",
       "  </thead>\n",
       "  <tbody>\n",
       "    <tr>\n",
       "      <th>A0001</th>\n",
       "      <td>1</td>\n",
       "      <td>9</td>\n",
       "      <td>1</td>\n",
       "    </tr>\n",
       "    <tr>\n",
       "      <th>ANE-LX1</th>\n",
       "      <td>6</td>\n",
       "      <td>66</td>\n",
       "      <td>3</td>\n",
       "    </tr>\n",
       "    <tr>\n",
       "      <th>CLT-L09</th>\n",
       "      <td>5</td>\n",
       "      <td>58</td>\n",
       "      <td>0</td>\n",
       "    </tr>\n",
       "    <tr>\n",
       "      <th>DLI-L22</th>\n",
       "      <td>1</td>\n",
       "      <td>10</td>\n",
       "      <td>0</td>\n",
       "    </tr>\n",
       "    <tr>\n",
       "      <th>E5823</th>\n",
       "      <td>1</td>\n",
       "      <td>2</td>\n",
       "      <td>0</td>\n",
       "    </tr>\n",
       "    <tr>\n",
       "      <th>ELE-L09</th>\n",
       "      <td>4</td>\n",
       "      <td>47</td>\n",
       "      <td>3</td>\n",
       "    </tr>\n",
       "    <tr>\n",
       "      <th>ELE-L29</th>\n",
       "      <td>2</td>\n",
       "      <td>22</td>\n",
       "      <td>1</td>\n",
       "    </tr>\n",
       "    <tr>\n",
       "      <th>EML-L09</th>\n",
       "      <td>1</td>\n",
       "      <td>15</td>\n",
       "      <td>0</td>\n",
       "    </tr>\n",
       "    <tr>\n",
       "      <th>EVA-L09</th>\n",
       "      <td>1</td>\n",
       "      <td>21</td>\n",
       "      <td>1</td>\n",
       "    </tr>\n",
       "    <tr>\n",
       "      <th>EVR-N29</th>\n",
       "      <td>1</td>\n",
       "      <td>10</td>\n",
       "      <td>0</td>\n",
       "    </tr>\n",
       "    <tr>\n",
       "      <th>F3311</th>\n",
       "      <td>1</td>\n",
       "      <td>13</td>\n",
       "      <td>1</td>\n",
       "    </tr>\n",
       "    <tr>\n",
       "      <th>FIG-LX1</th>\n",
       "      <td>2</td>\n",
       "      <td>22</td>\n",
       "      <td>2</td>\n",
       "    </tr>\n",
       "    <tr>\n",
       "      <th>G3311</th>\n",
       "      <td>2</td>\n",
       "      <td>25</td>\n",
       "      <td>1</td>\n",
       "    </tr>\n",
       "    <tr>\n",
       "      <th>Generic Smartphone</th>\n",
       "      <td>719</td>\n",
       "      <td>8346</td>\n",
       "      <td>321</td>\n",
       "    </tr>\n",
       "    <tr>\n",
       "      <th>HTC 10</th>\n",
       "      <td>1</td>\n",
       "      <td>19</td>\n",
       "      <td>0</td>\n",
       "    </tr>\n",
       "  </tbody>\n",
       "</table>\n",
       "</div>"
      ],
      "text/plain": [
       "                    experiment  hour  response\n",
       "device_make                                   \n",
       "A0001                        1     9         1\n",
       "ANE-LX1                      6    66         3\n",
       "CLT-L09                      5    58         0\n",
       "DLI-L22                      1    10         0\n",
       "E5823                        1     2         0\n",
       "ELE-L09                      4    47         3\n",
       "ELE-L29                      2    22         1\n",
       "EML-L09                      1    15         0\n",
       "EVA-L09                      1    21         1\n",
       "EVR-N29                      1    10         0\n",
       "F3311                        1    13         1\n",
       "FIG-LX1                      2    22         2\n",
       "G3311                        2    25         1\n",
       "Generic Smartphone         719  8346       321\n",
       "HTC 10                       1    19         0"
      ]
     },
     "execution_count": 98,
     "metadata": {},
     "output_type": "execute_result"
    }
   ],
   "source": [
    "date_group_df = combined_df.groupby('device_make').agg(\n",
    "    {'experiment': 'count', 'hour': 'sum', 'response': 'sum'})\n",
    "date_group_df.head(15)"
   ]
  },
  {
   "cell_type": "markdown",
   "id": "248587f2",
   "metadata": {},
   "source": [
    ">Highest number of response were recorded by different device"
   ]
  },
  {
   "cell_type": "code",
   "execution_count": 99,
   "id": "d2112c2e",
   "metadata": {},
   "outputs": [
    {
     "data": {
      "image/png": "[encoded data removed]",
      "text/plain": [
       "<Figure size 504x504 with 1 Axes>"
      ]
     },
     "metadata": {},
     "output_type": "display_data"
    }
   ],
   "source": [
    "top_10 = df['device_make'].value_counts().nlargest(10)\n",
    "fig1, ax1 = plt.subplots(figsize=(7, 7))\n",
    "ax1.pie(top_10.values, labels=top_10.index, autopct='%1.1f%%', shadow=True)\n",
    "ax1.axis('equal')\n",
    "ax1.set_title('Pie plot of most popular smart phones', fontsize=15, fontweight='bold')\n",
    "plt.show()"
   ]
  },
  {
   "cell_type": "markdown",
   "id": "46fa2722",
   "metadata": {},
   "source": [
    "* From the graph we can see that the version of smartphones used are not known"
   ]
  },
  {
   "cell_type": "markdown",
   "id": "719755a5",
   "metadata": {},
   "source": [
    "* CORRELATION ANALYSIS"
   ]
  },
  {
   "cell_type": "code",
   "execution_count": 100,
   "id": "949df37d",
   "metadata": {},
   "outputs": [
    {
     "data": {
      "image/png": "[encoded data removed]",
      "text/plain": [
       "<Figure size 576x504 with 2 Axes>"
      ]
     },
     "metadata": {},
     "output_type": "display_data"
    }
   ],
   "source": [
    "plt.figure(figsize=(8, 7))\n",
    "corr = df.corr()\n",
    "sns.heatmap(corr)\n",
    "plt.title('correlation', fontsize=15, fontweight='bold')\n",
    "plt.show()"
   ]
  },
  {
   "cell_type": "markdown",
   "id": "1dd0b0d9",
   "metadata": {},
   "source": [
    "* we can see that the controlled group converted more than the exposed group"
   ]
  },
  {
   "cell_type": "markdown",
   "id": "38dfa466",
   "metadata": {},
   "source": [
    "* the dash lines represents the mean conversion rates for the control and exposed group"
   ]
  }
 ],
 "metadata": {
  "kernelspec": {
   "display_name": "Python 3 (ipykernel)",
   "language": "python",
   "name": "python3"
  },
  "language_info": {
   "codemirror_mode": {
    "name": "ipython",
    "version": 3
   },
   "file_extension": ".py",
   "mimetype": "text/x-python",
   "name": "python",
   "nbconvert_exporter": "python",
   "pygments_lexer": "ipython3",
   "version": "3.10.3"
  }
 },
 "nbformat": 4,
 "nbformat_minor": 5
}
